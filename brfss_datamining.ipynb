{
  "nbformat": 4,
  "nbformat_minor": 0,
  "metadata": {
    "colab": {
      "provenance": []
    },
    "kernelspec": {
      "name": "python3",
      "display_name": "Python 3"
    },
    "language_info": {
      "name": "python"
    }
  },
  "cells": [
    {
      "cell_type": "code",
      "execution_count": null,
      "metadata": {
        "id": "OWmZJlp-Ham6"
      },
      "outputs": [],
      "source": [
        "import pandas as pd\n",
        "import seaborn as sns\n",
        "import matplotlib.pyplot as plt\n",
        "import numpy as np\n",
        "import scipy.stats as st\n",
        "from sklearn import model_selection\n",
        "from sklearn.linear_model import LogisticRegression\n",
        "from sklearn.tree import DecisionTreeClassifier\n",
        "from sklearn.naive_bayes import GaussianNB\n",
        "from sklearn.metrics import classification_report\n",
        "from sklearn.metrics import confusion_matrix\n",
        "from sklearn import svm\n",
        "from sklearn.metrics import roc_curve, roc_auc_score\n",
        "from sklearn import metrics\n",
        "from sklearn.linear_model import LinearRegression"
      ]
    },
    {
      "cell_type": "code",
      "source": [],
      "metadata": {
        "id": "_wPLw07gtCi_"
      },
      "execution_count": null,
      "outputs": []
    },
    {
      "cell_type": "code",
      "source": [
        "df=pd.read_csv('llcp2020AttributeClean.csv',header = 0);\n",
        "##df.sample(10)\n",
        "df.dtypes"
      ],
      "metadata": {
        "colab": {
          "base_uri": "https://localhost:8080/"
        },
        "id": "OIjs-bEHHiDd",
        "outputId": "4f24b7fc-eef7-4342-993a-8bc8a83a7a81"
      },
      "execution_count": null,
      "outputs": [
        {
          "output_type": "execute_result",
          "data": {
            "text/plain": [
              "SEXVAR        int64\n",
              "GENHLTH     float64\n",
              "PHYSHLTH    float64\n",
              "MENTHLTH    float64\n",
              "CHECKUP1    float64\n",
              "EXERANY2      int64\n",
              "SLEPTIM1      int64\n",
              "CVDINFR4    float64\n",
              "CVDCRHD4      int64\n",
              "CVDSTRK3      int64\n",
              "ASTHMA3       int64\n",
              "CHCSCNCR      int64\n",
              "CHCOCNCR      int64\n",
              "CHCCOPD2      int64\n",
              "HAVARTH4      int64\n",
              "ADDEPEV3      int64\n",
              "CHCKDNY2      int64\n",
              "DIABETE4      int64\n",
              "DIABAGE3    float64\n",
              "PREGNANT    float64\n",
              "WEIGHT2       int64\n",
              "HEIGHT3       int64\n",
              "SMOKDAY2    float64\n",
              "LASTSMK2    float64\n",
              "USENOW3     float64\n",
              "AVEDRNK3    float64\n",
              "PDIABTST    float64\n",
              "PREDIAB1    float64\n",
              "INSULIN1    float64\n",
              "BLDSUGAR    float64\n",
              "FEETCHK3    float64\n",
              "DOCTDIAB    float64\n",
              "CHKHEMO3    float64\n",
              "FEETCHK     float64\n",
              "EYEEXAM1    float64\n",
              "ECIGARET    float64\n",
              "ECIGNOW     float64\n",
              "_DRDXAR2    float64\n",
              "_BMI5       float64\n",
              "_BMI5CAT    float64\n",
              "_SMOKER3      int64\n",
              "_DRNKWK1      int64\n",
              "dtype: object"
            ]
          },
          "metadata": {},
          "execution_count": 3
        }
      ]
    },
    {
      "cell_type": "code",
      "source": [],
      "metadata": {
        "id": "MTKHx9k3k632"
      },
      "execution_count": null,
      "outputs": []
    },
    {
      "cell_type": "code",
      "source": [
        "###pre_processing\n",
        "df['SEXVAR'] = df.SEXVAR.astype('category')"
      ],
      "metadata": {
        "id": "56QjKetlHxfW"
      },
      "execution_count": null,
      "outputs": []
    },
    {
      "cell_type": "code",
      "source": [
        "gen_col = df['GENHLTH']\n",
        "gen_col.replace(to_replace = 2, value = 1, inplace=True)\n",
        "gen_col.replace(to_replace = 3, value = 1, inplace=True)\n",
        "gen_col.replace(to_replace = 4, value = 2, inplace=True)\n",
        "gen_col.replace(to_replace = 5, value = 2, inplace=True)\n",
        "gen_col.replace(to_replace = 2, value = 1, inplace=True)\n",
        "gen_col.replace(to_replace = 7, value = np.NaN, inplace=True)\n",
        "gen_col.replace(to_replace = 9, value = np.NaN, inplace=True)\n",
        "df['GENHLTH'] = df.GENHLTH.astype('category')"
      ],
      "metadata": {
        "id": "LMTihC7QPhpp"
      },
      "execution_count": null,
      "outputs": []
    },
    {
      "cell_type": "code",
      "source": [
        "sleep_col = df['SLEPTIM1']\n",
        "sleep_col.replace(to_replace = 77, value = sleep_col.mean(), inplace=True)\n",
        "sleep_col.replace(to_replace = 77, value = sleep_col.mean(), inplace=True)"
      ],
      "metadata": {
        "id": "LTocBlMgIATC"
      },
      "execution_count": null,
      "outputs": []
    },
    {
      "cell_type": "code",
      "source": [
        "chc_col = df['CHCSCNCR']\n",
        "chc_col.replace(to_replace = 7, value = np.NaN, inplace=True)\n",
        "chc_col.replace(to_replace = 9, value = np.NaN, inplace=True)\n",
        "df['CHCSCNCR'] = df.CHCSCNCR.astype('category')"
      ],
      "metadata": {
        "id": "xFxIEjGhQJFk"
      },
      "execution_count": null,
      "outputs": []
    },
    {
      "cell_type": "code",
      "source": [
        "dia_col = df['DIABETE4']\n",
        "dia_col.replace(to_replace = 2, value = 1, inplace=True)\n",
        "dia_col.replace(to_replace = 3, value = 0, inplace=True)\n",
        "dia_col.replace(to_replace = 4, value = 0, inplace=True)"
      ],
      "metadata": {
        "id": "NVv2ocpSZoWR"
      },
      "execution_count": null,
      "outputs": []
    },
    {
      "cell_type": "code",
      "source": [
        "preg_col = df['PREGNANT']\n",
        "preg_col.replace(to_replace = 7, value = np.NaN, inplace=True)\n",
        "preg_col.replace(to_replace = 9, value = np.NaN, inplace=True)\n",
        "df['PREGNANT'] = df.PREGNANT.astype('category')"
      ],
      "metadata": {
        "id": "SV7bkfoiRUHv"
      },
      "execution_count": null,
      "outputs": []
    },
    {
      "cell_type": "code",
      "source": [
        "bsl_col = df['PDIABTST']\n",
        "bsl_col.replace(to_replace = 7, value = np.NaN, inplace=True)\n",
        "bsl_col.replace(to_replace = 9, value = np.NaN, inplace=True)\n",
        "df['PDIABTST'] = df.PDIABTST.astype('category')"
      ],
      "metadata": {
        "id": "dYwY4qQoSSyb"
      },
      "execution_count": null,
      "outputs": []
    },
    {
      "cell_type": "code",
      "source": [
        "pre_col = df['PREDIAB1']\n",
        "pre_col.replace(to_replace = 7, value = np.NaN, inplace=True)\n",
        "pre_col.replace(to_replace = 9, value = np.NaN, inplace=True)\n",
        "df['PREDIAB1'] = df.PREDIAB1.astype('category')"
      ],
      "metadata": {
        "id": "tE63H3G6S0gL"
      },
      "execution_count": null,
      "outputs": []
    },
    {
      "cell_type": "code",
      "source": [
        "smo_col = df['_SMOKER3']\n",
        "smo_col.replace(to_replace = 2, value = 1, inplace=True)\n",
        "smo_col.replace(to_replace = 3, value = 2, inplace=True)\n",
        "smo_col.replace(to_replace = 4, value = 3, inplace=True)\n",
        "df['_SMOKER3'] = df._SMOKER3.astype('category')"
      ],
      "metadata": {
        "id": "ysgwABouTHU3"
      },
      "execution_count": null,
      "outputs": []
    },
    {
      "cell_type": "code",
      "source": [
        "df = df[['SEXVAR','GENHLTH','SLEPTIM1','DIABETE4','CHCSCNCR','PREGNANT','PDIABTST','PREDIAB1','_SMOKER3','AVEDRNK3','WEIGHT2','HEIGHT3']]"
      ],
      "metadata": {
        "id": "YWkP-p-WT5pZ"
      },
      "execution_count": null,
      "outputs": []
    },
    {
      "cell_type": "code",
      "source": [
        "df = df.sample(n=10000)\n",
        "x=df[['SEXVAR','GENHLTH','SLEPTIM1','CHCSCNCR','PREGNANT','PDIABTST','PREDIAB1','_SMOKER3','AVEDRNK3','WEIGHT2','HEIGHT3']]\n",
        "y=df['DIABETE4']\n",
        "testSetSize=0.20\n",
        "seed=7\n",
        "x_train,x_test,y_train,y_test=model_selection.train_test_split(x,y,test_size=testSetSize,random_state=seed)"
      ],
      "metadata": {
        "id": "aCAG4ZCoaBEj"
      },
      "execution_count": null,
      "outputs": []
    },
    {
      "cell_type": "code",
      "source": [],
      "metadata": {
        "id": "Kxu9UYMElkwG"
      },
      "execution_count": null,
      "outputs": []
    },
    {
      "cell_type": "code",
      "source": [
        "sns.countplot(df[\"DIABETE4\"])"
      ],
      "metadata": {
        "colab": {
          "base_uri": "https://localhost:8080/",
          "height": 351
        },
        "id": "eTO2d5YcedjI",
        "outputId": "c4d03a42-f224-462d-ae9f-4ee8bc83a2b9"
      },
      "execution_count": null,
      "outputs": [
        {
          "output_type": "stream",
          "name": "stderr",
          "text": [
            "/usr/local/lib/python3.8/dist-packages/seaborn/_decorators.py:36: FutureWarning: Pass the following variable as a keyword arg: x. From version 0.12, the only valid positional argument will be `data`, and passing other arguments without an explicit keyword will result in an error or misinterpretation.\n",
            "  warnings.warn(\n"
          ]
        },
        {
          "output_type": "execute_result",
          "data": {
            "text/plain": [
              "<matplotlib.axes._subplots.AxesSubplot at 0x7fc9c635eb20>"
            ]
          },
          "metadata": {},
          "execution_count": 44
        },
        {
          "output_type": "display_data",
          "data": {
            "text/plain": [
              "<Figure size 432x288 with 1 Axes>"
            ],
            "image/png": "[encoded data removed]"
          },
          "metadata": {
            "needs_background": "light"
          }
        }
      ]
    },
    {
      "cell_type": "code",
      "source": [
        "df.describe\n"
      ],
      "metadata": {
        "colab": {
          "base_uri": "https://localhost:8080/"
        },
        "id": "Z14piJkDjl_7",
        "outputId": "0b605c86-63ef-4dfe-e765-2776dd8ba84d"
      },
      "execution_count": null,
      "outputs": [
        {
          "output_type": "execute_result",
          "data": {
            "text/plain": [
              "<bound method NDFrame.describe of        SEXVAR GENHLTH  SLEPTIM1  DIABETE4 CHCSCNCR PREGNANT PDIABTST PREDIAB1  \\\n",
              "216032      1     1.0       7.0         0      2.0      NaN      2.0      3.0   \n",
              "27069       2     1.0       8.0         0      2.0      NaN      NaN      NaN   \n",
              "280392      1     1.0       7.0         0      2.0      NaN      NaN      NaN   \n",
              "295802      2     1.0       7.0         0      2.0      NaN      NaN      NaN   \n",
              "17157       2     1.0       8.0         0      2.0      2.0      1.0      3.0   \n",
              "...       ...     ...       ...       ...      ...      ...      ...      ...   \n",
              "159778      1     1.0       8.0         0      2.0      NaN      NaN      NaN   \n",
              "5210        2     1.0       8.0         0      2.0      2.0      2.0      3.0   \n",
              "268         1     1.0       3.0         0      2.0      NaN      2.0      3.0   \n",
              "317386      1     1.0       8.0         0      2.0      NaN      1.0      3.0   \n",
              "116785      2     1.0       8.0         0      2.0      2.0      1.0      1.0   \n",
              "\n",
              "       _SMOKER3  AVEDRNK3  WEIGHT2  HEIGHT3  \n",
              "216032        3       1.0      185      601  \n",
              "27069         3       NaN      125      502  \n",
              "280392        3       1.0      210      600  \n",
              "295802        3       NaN      220      509  \n",
              "17157         3       2.0      120      411  \n",
              "...         ...       ...      ...      ...  \n",
              "159778        2       NaN      170      507  \n",
              "5210          3       NaN      105      506  \n",
              "268           1       3.0       85      404  \n",
              "317386        3       2.0      235      511  \n",
              "116785        3       4.0      158      506  \n",
              "\n",
              "[10000 rows x 12 columns]>"
            ]
          },
          "metadata": {},
          "execution_count": 52
        }
      ]
    },
    {
      "cell_type": "code",
      "source": [
        "df.replace(np.NaN,0)\n"
      ],
      "metadata": {
        "colab": {
          "base_uri": "https://localhost:8080/",
          "height": 656
        },
        "id": "2B92gx6ece15",
        "outputId": "e0f7377a-7fa1-469a-ba30-2449c2a35cf5"
      },
      "execution_count": null,
      "outputs": [
        {
          "output_type": "execute_result",
          "data": {
            "text/plain": [
              "       SEXVAR GENHLTH  SLEPTIM1  DIABETE4 CHCSCNCR PREGNANT PDIABTST PREDIAB1  \\\n",
              "216032      1     1.0       7.0         0      2.0      NaN      2.0      3.0   \n",
              "27069       2     1.0       8.0         0      2.0      NaN      NaN      NaN   \n",
              "280392      1     1.0       7.0         0      2.0      NaN      NaN      NaN   \n",
              "295802      2     1.0       7.0         0      2.0      NaN      NaN      NaN   \n",
              "17157       2     1.0       8.0         0      2.0      2.0      1.0      3.0   \n",
              "...       ...     ...       ...       ...      ...      ...      ...      ...   \n",
              "159778      1     1.0       8.0         0      2.0      NaN      NaN      NaN   \n",
              "5210        2     1.0       8.0         0      2.0      2.0      2.0      3.0   \n",
              "268         1     1.0       3.0         0      2.0      NaN      2.0      3.0   \n",
              "317386      1     1.0       8.0         0      2.0      NaN      1.0      3.0   \n",
              "116785      2     1.0       8.0         0      2.0      2.0      1.0      1.0   \n",
              "\n",
              "       _SMOKER3  AVEDRNK3  WEIGHT2  HEIGHT3  \n",
              "216032        3       1.0      185      601  \n",
              "27069         3       0.0      125      502  \n",
              "280392        3       1.0      210      600  \n",
              "295802        3       0.0      220      509  \n",
              "17157         3       2.0      120      411  \n",
              "...         ...       ...      ...      ...  \n",
              "159778        2       0.0      170      507  \n",
              "5210          3       0.0      105      506  \n",
              "268           1       3.0       85      404  \n",
              "317386        3       2.0      235      511  \n",
              "116785        3       4.0      158      506  \n",
              "\n",
              "[10000 rows x 12 columns]"
            ],
            "text/html": [
              "\n",
              "  <div id=\"df-fa7d98e0-0df8-49d7-8e60-3316b5123a57\">\n",
              "    <div class=\"colab-df-container\">\n",
              "      <div>\n",
              "<style scoped>\n",
              "    .dataframe tbody tr th:only-of-type {\n",
              "        vertical-align: middle;\n",
              "    }\n",
              "\n",
              "    .dataframe tbody tr th {\n",
              "        vertical-align: top;\n",
              "    }\n",
              "\n",
              "    .dataframe thead th {\n",
              "        text-align: right;\n",
              "    }\n",
              "</style>\n",
              "<table border=\"1\" class=\"dataframe\">\n",
              "  <thead>\n",
              "    <tr style=\"text-align: right;\">\n",
              "      <th></th>\n",
              "      <th>SEXVAR</th>\n",
              "      <th>GENHLTH</th>\n",
              "      <th>SLEPTIM1</th>\n",
              "      <th>DIABETE4</th>\n",
              "      <th>CHCSCNCR</th>\n",
              "      <th>PREGNANT</th>\n",
              "      <th>PDIABTST</th>\n",
              "      <th>PREDIAB1</th>\n",
              "      <th>_SMOKER3</th>\n",
              "      <th>AVEDRNK3</th>\n",
              "      <th>WEIGHT2</th>\n",
              "      <th>HEIGHT3</th>\n",
              "    </tr>\n",
              "  </thead>\n",
              "  <tbody>\n",
              "    <tr>\n",
              "      <th>216032</th>\n",
              "      <td>1</td>\n",
              "      <td>1.0</td>\n",
              "      <td>7.0</td>\n",
              "      <td>0</td>\n",
              "      <td>2.0</td>\n",
              "      <td>NaN</td>\n",
              "      <td>2.0</td>\n",
              "      <td>3.0</td>\n",
              "      <td>3</td>\n",
              "      <td>1.0</td>\n",
              "      <td>185</td>\n",
              "      <td>601</td>\n",
              "    </tr>\n",
              "    <tr>\n",
              "      <th>27069</th>\n",
              "      <td>2</td>\n",
              "      <td>1.0</td>\n",
              "      <td>8.0</td>\n",
              "      <td>0</td>\n",
              "      <td>2.0</td>\n",
              "      <td>NaN</td>\n",
              "      <td>NaN</td>\n",
              "      <td>NaN</td>\n",
              "      <td>3</td>\n",
              "      <td>0.0</td>\n",
              "      <td>125</td>\n",
              "      <td>502</td>\n",
              "    </tr>\n",
              "    <tr>\n",
              "      <th>280392</th>\n",
              "      <td>1</td>\n",
              "      <td>1.0</td>\n",
              "      <td>7.0</td>\n",
              "      <td>0</td>\n",
              "      <td>2.0</td>\n",
              "      <td>NaN</td>\n",
              "      <td>NaN</td>\n",
              "      <td>NaN</td>\n",
              "      <td>3</td>\n",
              "      <td>1.0</td>\n",
              "      <td>210</td>\n",
              "      <td>600</td>\n",
              "    </tr>\n",
              "    <tr>\n",
              "      <th>295802</th>\n",
              "      <td>2</td>\n",
              "      <td>1.0</td>\n",
              "      <td>7.0</td>\n",
              "      <td>0</td>\n",
              "      <td>2.0</td>\n",
              "      <td>NaN</td>\n",
              "      <td>NaN</td>\n",
              "      <td>NaN</td>\n",
              "      <td>3</td>\n",
              "      <td>0.0</td>\n",
              "      <td>220</td>\n",
              "      <td>509</td>\n",
              "    </tr>\n",
              "    <tr>\n",
              "      <th>17157</th>\n",
              "      <td>2</td>\n",
              "      <td>1.0</td>\n",
              "      <td>8.0</td>\n",
              "      <td>0</td>\n",
              "      <td>2.0</td>\n",
              "      <td>2.0</td>\n",
              "      <td>1.0</td>\n",
              "      <td>3.0</td>\n",
              "      <td>3</td>\n",
              "      <td>2.0</td>\n",
              "      <td>120</td>\n",
              "      <td>411</td>\n",
              "    </tr>\n",
              "    <tr>\n",
              "      <th>...</th>\n",
              "      <td>...</td>\n",
              "      <td>...</td>\n",
              "      <td>...</td>\n",
              "      <td>...</td>\n",
              "      <td>...</td>\n",
              "      <td>...</td>\n",
              "      <td>...</td>\n",
              "      <td>...</td>\n",
              "      <td>...</td>\n",
              "      <td>...</td>\n",
              "      <td>...</td>\n",
              "      <td>...</td>\n",
              "    </tr>\n",
              "    <tr>\n",
              "      <th>159778</th>\n",
              "      <td>1</td>\n",
              "      <td>1.0</td>\n",
              "      <td>8.0</td>\n",
              "      <td>0</td>\n",
              "      <td>2.0</td>\n",
              "      <td>NaN</td>\n",
              "      <td>NaN</td>\n",
              "      <td>NaN</td>\n",
              "      <td>2</td>\n",
              "      <td>0.0</td>\n",
              "      <td>170</td>\n",
              "      <td>507</td>\n",
              "    </tr>\n",
              "    <tr>\n",
              "      <th>5210</th>\n",
              "      <td>2</td>\n",
              "      <td>1.0</td>\n",
              "      <td>8.0</td>\n",
              "      <td>0</td>\n",
              "      <td>2.0</td>\n",
              "      <td>2.0</td>\n",
              "      <td>2.0</td>\n",
              "      <td>3.0</td>\n",
              "      <td>3</td>\n",
              "      <td>0.0</td>\n",
              "      <td>105</td>\n",
              "      <td>506</td>\n",
              "    </tr>\n",
              "    <tr>\n",
              "      <th>268</th>\n",
              "      <td>1</td>\n",
              "      <td>1.0</td>\n",
              "      <td>3.0</td>\n",
              "      <td>0</td>\n",
              "      <td>2.0</td>\n",
              "      <td>NaN</td>\n",
              "      <td>2.0</td>\n",
              "      <td>3.0</td>\n",
              "      <td>1</td>\n",
              "      <td>3.0</td>\n",
              "      <td>85</td>\n",
              "      <td>404</td>\n",
              "    </tr>\n",
              "    <tr>\n",
              "      <th>317386</th>\n",
              "      <td>1</td>\n",
              "      <td>1.0</td>\n",
              "      <td>8.0</td>\n",
              "      <td>0</td>\n",
              "      <td>2.0</td>\n",
              "      <td>NaN</td>\n",
              "      <td>1.0</td>\n",
              "      <td>3.0</td>\n",
              "      <td>3</td>\n",
              "      <td>2.0</td>\n",
              "      <td>235</td>\n",
              "      <td>511</td>\n",
              "    </tr>\n",
              "    <tr>\n",
              "      <th>116785</th>\n",
              "      <td>2</td>\n",
              "      <td>1.0</td>\n",
              "      <td>8.0</td>\n",
              "      <td>0</td>\n",
              "      <td>2.0</td>\n",
              "      <td>2.0</td>\n",
              "      <td>1.0</td>\n",
              "      <td>1.0</td>\n",
              "      <td>3</td>\n",
              "      <td>4.0</td>\n",
              "      <td>158</td>\n",
              "      <td>506</td>\n",
              "    </tr>\n",
              "  </tbody>\n",
              "</table>\n",
              "<p>10000 rows × 12 columns</p>\n",
              "</div>\n",
              "      <button class=\"colab-df-convert\" onclick=\"convertToInteractive('df-fa7d98e0-0df8-49d7-8e60-3316b5123a57')\"\n",
              "              title=\"Convert this dataframe to an interactive table.\"\n",
              "              style=\"display:none;\">\n",
              "        \n",
              "  <svg xmlns=\"http://www.w3.org/2000/svg\" height=\"24px\"viewBox=\"0 0 24 24\"\n",
              "       width=\"24px\">\n",
              "    <path d=\"M0 0h24v24H0V0z\" fill=\"none\"/>\n",
              "    <path d=\"M18.56 5.44l.94 2.06.94-2.06 2.06-.94-2.06-.94-.94-2.06-.94 2.06-2.06.94zm-11 1L8.5 8.5l.94-2.06 2.06-.94-2.06-.94L8.5 2.5l-.94 2.06-2.06.94zm10 10l.94 2.06.94-2.06 2.06-.94-2.06-.94-.94-2.06-.94 2.06-2.06.94z\"/><path d=\"M17.41 7.96l-1.37-1.37c-.4-.4-.92-.59-1.43-.59-.52 0-1.04.2-1.43.59L10.3 9.45l-7.72 7.72c-.78.78-.78 2.05 0 2.83L4 21.41c.39.39.9.59 1.41.59.51 0 1.02-.2 1.41-.59l7.78-7.78 2.81-2.81c.8-.78.8-2.07 0-2.86zM5.41 20L4 18.59l7.72-7.72 1.47 1.35L5.41 20z\"/>\n",
              "  </svg>\n",
              "      </button>\n",
              "      \n",
              "  <style>\n",
              "    .colab-df-container {\n",
              "      display:flex;\n",
              "      flex-wrap:wrap;\n",
              "      gap: 12px;\n",
              "    }\n",
              "\n",
              "    .colab-df-convert {\n",
              "      background-color: #E8F0FE;\n",
              "      border: none;\n",
              "      border-radius: 50%;\n",
              "      cursor: pointer;\n",
              "      display: none;\n",
              "      fill: #1967D2;\n",
              "      height: 32px;\n",
              "      padding: 0 0 0 0;\n",
              "      width: 32px;\n",
              "    }\n",
              "\n",
              "    .colab-df-convert:hover {\n",
              "      background-color: #E2EBFA;\n",
              "      box-shadow: 0px 1px 2px rgba(60, 64, 67, 0.3), 0px 1px 3px 1px rgba(60, 64, 67, 0.15);\n",
              "      fill: #174EA6;\n",
              "    }\n",
              "\n",
              "    [theme=dark] .colab-df-convert {\n",
              "      background-color: #3B4455;\n",
              "      fill: #D2E3FC;\n",
              "    }\n",
              "\n",
              "    [theme=dark] .colab-df-convert:hover {\n",
              "      background-color: #434B5C;\n",
              "      box-shadow: 0px 1px 3px 1px rgba(0, 0, 0, 0.15);\n",
              "      filter: drop-shadow(0px 1px 2px rgba(0, 0, 0, 0.3));\n",
              "      fill: #FFFFFF;\n",
              "    }\n",
              "  </style>\n",
              "\n",
              "      <script>\n",
              "        const buttonEl =\n",
              "          document.querySelector('#df-fa7d98e0-0df8-49d7-8e60-3316b5123a57 button.colab-df-convert');\n",
              "        buttonEl.style.display =\n",
              "          google.colab.kernel.accessAllowed ? 'block' : 'none';\n",
              "\n",
              "        async function convertToInteractive(key) {\n",
              "          const element = document.querySelector('#df-fa7d98e0-0df8-49d7-8e60-3316b5123a57');\n",
              "          const dataTable =\n",
              "            await google.colab.kernel.invokeFunction('convertToInteractive',\n",
              "                                                     [key], {});\n",
              "          if (!dataTable) return;\n",
              "\n",
              "          const docLinkHtml = 'Like what you see? Visit the ' +\n",
              "            '<a target=\"_blank\" href=https://colab.research.google.com/notebooks/data_table.ipynb>data table notebook</a>'\n",
              "            + ' to learn more about interactive tables.';\n",
              "          element.innerHTML = '';\n",
              "          dataTable['output_type'] = 'display_data';\n",
              "          await google.colab.output.renderOutput(dataTable, element);\n",
              "          const docLink = document.createElement('div');\n",
              "          docLink.innerHTML = docLinkHtml;\n",
              "          element.appendChild(docLink);\n",
              "        }\n",
              "      </script>\n",
              "    </div>\n",
              "  </div>\n",
              "  "
            ]
          },
          "metadata": {},
          "execution_count": 53
        }
      ]
    },
    {
      "cell_type": "code",
      "source": [
        "df=pd.read_csv('Cleaned.csv',header = 0);\n",
        "df['GENHLTH'] = df.GENHLTH.astype('category')\n",
        "df['PREDIAB1'] = df.PREDIAB1.astype('category')\n",
        "df['CHCSCNCR'] = df.CHCSCNCR.astype('category')\n",
        "df['PREGNANT'] = df.PREGNANT.astype('category')\n",
        "df['PDIABTST'] = df.PDIABTST.astype('category')\n",
        "df['_SMOKER3'] = df._SMOKER3.astype('category')\n",
        "##df.sample(10)\n",
        "df.dtypes"
      ],
      "metadata": {
        "colab": {
          "base_uri": "https://localhost:8080/"
        },
        "id": "aThTfE5kk8fz",
        "outputId": "49ecaaaa-d473-41f1-abb5-9bd776d97caa"
      },
      "execution_count": null,
      "outputs": [
        {
          "output_type": "execute_result",
          "data": {
            "text/plain": [
              "index          int64\n",
              "SEXVAR         int64\n",
              "GENHLTH     category\n",
              "SLEPTIM1     float64\n",
              "DIABETE4       int64\n",
              "CHCSCNCR    category\n",
              "PREGNANT    category\n",
              "PDIABTST    category\n",
              "PREDIAB1    category\n",
              "_SMOKER3    category\n",
              "AVEDRNK3     float64\n",
              "WEIGHT2        int64\n",
              "HEIGHT3        int64\n",
              "dtype: object"
            ]
          },
          "metadata": {},
          "execution_count": 4
        }
      ]
    },
    {
      "cell_type": "code",
      "source": [
        "df = df.sample(n=10000)\n",
        "x=df[['SEXVAR','GENHLTH','SLEPTIM1','CHCSCNCR','PREGNANT','PDIABTST','PREDIAB1','_SMOKER3','AVEDRNK3','WEIGHT2','HEIGHT3']]\n",
        "y=df['DIABETE4']\n",
        "testSetSize=0.30\n",
        "seed=10\n",
        "x_train,x_test,y_train,y_test=model_selection.train_test_split(x,y,test_size=testSetSize,random_state=seed)"
      ],
      "metadata": {
        "id": "8zWhg4HTll7R"
      },
      "execution_count": null,
      "outputs": []
    },
    {
      "cell_type": "code",
      "source": [
        "#TO-DO 8: Add your code here\n",
        "#LogisticRegression\n",
        "LR=LogisticRegression(max_iter=1000)\n",
        "LR.fit(x_train, y_train)\n",
        "LR_prdict=LR.predict(x_test)\n",
        "#DecisionTreeClassifier\n",
        "DT=DecisionTreeClassifier()\n",
        "DT.fit(x_train,y_train)\n",
        "DT_prdict=DT.predict(x_test)\n",
        "#GaussianNaiveBayes\n",
        "NB=GaussianNB()\n",
        "NB.fit(x_train, y_train)\n",
        "NB_prdict=NB.predict(x_test)\n"
      ],
      "metadata": {
        "id": "YXhY7pZHlrNE"
      },
      "execution_count": null,
      "outputs": []
    },
    {
      "cell_type": "code",
      "source": [
        "print(\"Accuracy of LR:\",metrics.accuracy_score(y_test,LR_prdict))\n",
        "print(\"Accuracy of DT:\",metrics.accuracy_score(y_test,DT_prdict))\n",
        "print(\"Accuracy of NB:\",metrics.accuracy_score(y_test,NB_prdict))"
      ],
      "metadata": {
        "colab": {
          "base_uri": "https://localhost:8080/"
        },
        "id": "NfyWqWeXmxlV",
        "outputId": "facdf21a-8f1d-4676-8060-ad80010988e1"
      },
      "execution_count": null,
      "outputs": [
        {
          "output_type": "stream",
          "name": "stdout",
          "text": [
            "Accuracy of LR: 0.8596666666666667\n",
            "Accuracy of DT: 0.8326666666666667\n",
            "Accuracy of NB: 0.7333333333333333\n"
          ]
        }
      ]
    },
    {
      "cell_type": "code",
      "source": [
        "from sklearn.metrics import roc_auc_score\n",
        "y_pred_proba = LR.predict_proba(x_test)[::,1]\n",
        "fpr, tpr, _ = metrics.roc_curve(y_test,  y_pred_proba)\n",
        "ns_auc = roc_auc_score(y_test,  y_pred_proba)\n",
        "print(\"ROC-AUC Test Score\",ns_auc)\n",
        "#create ROC curve\n",
        "plt.plot(fpr,tpr)\n",
        "plt.ylabel('True Positive Rate')\n",
        "plt.xlabel('False Positive Rate')\n",
        "\n",
        "plt.show()\n",
        "\n"
      ],
      "metadata": {
        "colab": {
          "base_uri": "https://localhost:8080/",
          "height": 296
        },
        "id": "tw_pi1TrwlgW",
        "outputId": "7b8adc73-65e4-43aa-84a0-4f835ea71200"
      },
      "execution_count": null,
      "outputs": [
        {
          "output_type": "stream",
          "name": "stdout",
          "text": [
            "ROC-AUC Test Score 0.8479142240589302\n"
          ]
        },
        {
          "output_type": "display_data",
          "data": {
            "text/plain": [
              "<Figure size 432x288 with 1 Axes>"
            ],
            "image/png": "[encoded data removed]"
          },
          "metadata": {
            "needs_background": "light"
          }
        }
      ]
    },
    {
      "cell_type": "code",
      "source": [
        "y_pred_proba = DT.predict_proba(x_test)[::,1]\n",
        "fpr, tpr, _ = metrics.roc_curve(y_test,  y_pred_proba)\n",
        "\n",
        "#create ROC curve\n",
        "plt.plot(fpr,tpr)\n",
        "plt.ylabel('True Positive Rate')\n",
        "plt.xlabel('False Positive Rate')\n",
        "plt.show()\n",
        "\n"
      ],
      "metadata": {
        "colab": {
          "base_uri": "https://localhost:8080/",
          "height": 279
        },
        "id": "p611vQsYnWS8",
        "outputId": "572691f4-a542-4f4e-944d-ebca4b9cb1f2"
      },
      "execution_count": null,
      "outputs": [
        {
          "output_type": "display_data",
          "data": {
            "text/plain": [
              "<Figure size 432x288 with 1 Axes>"
            ],
            "image/png": "[encoded data removed]"
          },
          "metadata": {
            "needs_background": "light"
          }
        }
      ]
    },
    {
      "cell_type": "code",
      "source": [],
      "metadata": {
        "colab": {
          "base_uri": "https://localhost:8080/",
          "height": 235
        },
        "id": "4F-lacwFtEyz",
        "outputId": "baa4aef6-2a92-4d8c-cd5e-d0c80da6d15b"
      },
      "execution_count": null,
      "outputs": [
        {
          "output_type": "error",
          "ename": "AttributeError",
          "evalue": "ignored",
          "traceback": [
            "\u001b[0;31m---------------------------------------------------------------------------\u001b[0m",
            "\u001b[0;31mAttributeError\u001b[0m                            Traceback (most recent call last)",
            "\u001b[0;32m<ipython-input-82-6f87815e3759>\u001b[0m in \u001b[0;36m<module>\u001b[0;34m\u001b[0m\n\u001b[0;32m----> 1\u001b[0;31m \u001b[0my_pred_proba\u001b[0m \u001b[0;34m=\u001b[0m \u001b[0mLR_prdict\u001b[0m\u001b[0;34m.\u001b[0m\u001b[0mpredict_proba\u001b[0m\u001b[0;34m(\u001b[0m\u001b[0mX_test\u001b[0m\u001b[0;34m)\u001b[0m\u001b[0;34m[\u001b[0m\u001b[0;34m:\u001b[0m\u001b[0;34m:\u001b[0m\u001b[0;34m,\u001b[0m\u001b[0;36m1\u001b[0m\u001b[0;34m]\u001b[0m\u001b[0;34m\u001b[0m\u001b[0;34m\u001b[0m\u001b[0m\n\u001b[0m\u001b[1;32m      2\u001b[0m \u001b[0mfpr\u001b[0m\u001b[0;34m,\u001b[0m \u001b[0mtpr\u001b[0m\u001b[0;34m,\u001b[0m \u001b[0m_\u001b[0m \u001b[0;34m=\u001b[0m \u001b[0mmetrics\u001b[0m\u001b[0;34m.\u001b[0m\u001b[0mroc_curve\u001b[0m\u001b[0;34m(\u001b[0m\u001b[0my_test\u001b[0m\u001b[0;34m,\u001b[0m  \u001b[0my_pred_proba\u001b[0m\u001b[0;34m)\u001b[0m\u001b[0;34m\u001b[0m\u001b[0;34m\u001b[0m\u001b[0m\n\u001b[1;32m      3\u001b[0m \u001b[0mauc\u001b[0m \u001b[0;34m=\u001b[0m \u001b[0mmetrics\u001b[0m\u001b[0;34m.\u001b[0m\u001b[0mroc_auc_score\u001b[0m\u001b[0;34m(\u001b[0m\u001b[0my_test\u001b[0m\u001b[0;34m,\u001b[0m \u001b[0my_pred_proba\u001b[0m\u001b[0;34m)\u001b[0m\u001b[0;34m\u001b[0m\u001b[0;34m\u001b[0m\u001b[0m\n\u001b[1;32m      4\u001b[0m \u001b[0;34m\u001b[0m\u001b[0m\n\u001b[1;32m      5\u001b[0m \u001b[0;31m#create ROC curve\u001b[0m\u001b[0;34m\u001b[0m\u001b[0;34m\u001b[0m\u001b[0;34m\u001b[0m\u001b[0m\n",
            "\u001b[0;31mAttributeError\u001b[0m: 'numpy.ndarray' object has no attribute 'predict_proba'"
          ]
        }
      ]
    }
  ]
}
